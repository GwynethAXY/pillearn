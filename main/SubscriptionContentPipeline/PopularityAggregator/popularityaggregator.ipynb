{
 "cells": [
  {
   "cell_type": "code",
   "execution_count": 1,
   "metadata": {
    "collapsed": true
   },
   "outputs": [],
   "source": [
    "\n",
    "from pyspark import SparkContext, SparkConf\n",
    "from pyspark.sql import SparkSession\n",
    "from pyspark.sql.context import SQLContext\n",
    "from pyspark.sql.functions import udf\n",
    "from pyspark.sql.functions import lit\n",
    "from pyspark.sql.window import Window\n",
    "import pyspark.sql.functions as F\n",
    "from pyspark.sql.functions import lit, udf\n",
    "import pyspark.sql.types as T \n",
    "import argparse\n",
    "from configparser import ConfigParser\n",
    "import json\n",
    "\n",
    "conf = SparkConf()\n",
    "conf.setAppName('pillar')\n",
    "# sc = SparkContext(conf=conf)\n",
    "sc = SparkContext.getOrCreate(conf = conf);\n",
    "spark = SparkSession(sc)\n",
    "sc.setLogLevel('WARN')\n",
    "sql_context = SQLContext(sc)\n",
    "spark = SparkSession.builder.appName('pillar').getOrCreate()"
   ]
  },
  {
   "cell_type": "code",
   "execution_count": 8,
   "metadata": {
    "collapsed": true
   },
   "outputs": [],
   "source": [
    "df = spark.read.parquet(\"input.parquet/*\")"
   ]
  },
  {
   "cell_type": "code",
   "execution_count": 9,
   "metadata": {},
   "outputs": [
    {
     "data": {
      "text/html": [
       "<div>\n",
       "<style>\n",
       "    .dataframe thead tr:only-child th {\n",
       "        text-align: right;\n",
       "    }\n",
       "\n",
       "    .dataframe thead th {\n",
       "        text-align: left;\n",
       "    }\n",
       "\n",
       "    .dataframe tbody tr th {\n",
       "        vertical-align: top;\n",
       "    }\n",
       "</style>\n",
       "<table border=\"1\" class=\"dataframe\">\n",
       "  <thead>\n",
       "    <tr style=\"text-align: right;\">\n",
       "      <th></th>\n",
       "      <th>device_id</th>\n",
       "      <th>item_name</th>\n",
       "      <th>PercentPlayed</th>\n",
       "      <th>weight</th>\n",
       "    </tr>\n",
       "  </thead>\n",
       "  <tbody>\n",
       "    <tr>\n",
       "      <th>0</th>\n",
       "      <td>1</td>\n",
       "      <td>Pop Goes the Weasel2</td>\n",
       "      <td>2.0</td>\n",
       "      <td>1.00</td>\n",
       "    </tr>\n",
       "    <tr>\n",
       "      <th>1</th>\n",
       "      <td>1</td>\n",
       "      <td>Pop Goes the Weasel2</td>\n",
       "      <td>0.5</td>\n",
       "      <td>0.66</td>\n",
       "    </tr>\n",
       "  </tbody>\n",
       "</table>\n",
       "</div>"
      ],
      "text/plain": [
       "   device_id             item_name  PercentPlayed  weight\n",
       "0          1  Pop Goes the Weasel2            2.0    1.00\n",
       "1          1  Pop Goes the Weasel2            0.5    0.66"
      ]
     },
     "execution_count": 9,
     "metadata": {},
     "output_type": "execute_result"
    }
   ],
   "source": [
    "df.toPandas()"
   ]
  },
  {
   "cell_type": "code",
   "execution_count": 4,
   "metadata": {},
   "outputs": [],
   "source": [
    "# genderage_df = spark.read.csv('CLEANED_child_profile.csv', header=True)\n",
    "# df = df.join(genderage_df, 'device_id', 'inner')\n",
    "\n",
    "# df = df.select('item_name', 'weight', 'age', 'gender')\n",
    "# df = df.groupBy(['item_name', 'age', 'gender']).sum().alias('weighted_sum')\n",
    "# df.show()"
   ]
  },
  {
   "cell_type": "code",
   "execution_count": 5,
   "metadata": {
    "collapsed": true
   },
   "outputs": [],
   "source": [
    "def main(inputDir,profileMap,outputDir,config):\n",
    "    profile = spark.read.csv(profileMap, header='true')\n",
    "    df = spark.read.parquet(inputDir+\"/*\")\n",
    "    df = df.join(profile, 'device_id')\n",
    "    df = df.select('item_name', 'weight', 'age', 'gender')\n",
    "    df = df.groupBy(['item_name', 'age', 'gender']).sum().alias('weighted_sum')\n",
    "    df.write.parquet(outputDir)"
   ]
  },
  {
   "cell_type": "code",
   "execution_count": 6,
   "metadata": {},
   "outputs": [
    {
     "name": "stderr",
     "output_type": "stream",
     "text": [
      "usage: ipykernel_launcher.py [-h] -i INPUT -m MAP -o OUTPUT -c CONFIG\n",
      "ipykernel_launcher.py: error: the following arguments are required: -i/--input, -m/--map, -o/--output, -c/--config\n"
     ]
    },
    {
     "ename": "SystemExit",
     "evalue": "2",
     "output_type": "error",
     "traceback": [
      "An exception has occurred, use %tb to see the full traceback.\n",
      "\u001b[0;31mSystemExit\u001b[0m\u001b[0;31m:\u001b[0m 2\n"
     ]
    },
    {
     "name": "stderr",
     "output_type": "stream",
     "text": [
      "/Users/elaine/anaconda/lib/python3.6/site-packages/IPython/core/interactiveshell.py:2889: UserWarning: To exit: use 'exit', 'quit', or Ctrl-D.\n",
      "  warn(\"To exit: use 'exit', 'quit', or Ctrl-D.\", stacklevel=1)\n"
     ]
    }
   ],
   "source": [
    "if __name__ == \"__main__\":\n",
    "    parser = argparse.ArgumentParser() \n",
    "    parser.add_argument('-i', '--input', required=True)\n",
    "    parser.add_argument('-m', '--map', required=True)\n",
    "    parser.add_argument('-o', '--output', required=True)\n",
    "    parser.add_argument('-c', '--config', required=True)\n",
    "    args = parser.parse_args()\n",
    "    config = ConfigParser()\n",
    "    config.read(args.config)\n",
    "    main(args.input,args.map,args.output,config)"
   ]
  },
  {
   "cell_type": "code",
   "execution_count": null,
   "metadata": {
    "collapsed": true
   },
   "outputs": [],
   "source": []
  }
 ],
 "metadata": {
  "kernelspec": {
   "display_name": "Python 3",
   "language": "python",
   "name": "python3"
  },
  "language_info": {
   "codemirror_mode": {
    "name": "ipython",
    "version": 3
   },
   "file_extension": ".py",
   "mimetype": "text/x-python",
   "name": "python",
   "nbconvert_exporter": "python",
   "pygments_lexer": "ipython3",
   "version": "3.6.1"
  }
 },
 "nbformat": 4,
 "nbformat_minor": 2
}
