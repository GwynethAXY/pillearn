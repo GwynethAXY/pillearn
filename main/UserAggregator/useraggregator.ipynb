{
 "cells": [
  {
   "cell_type": "code",
   "execution_count": 1,
   "metadata": {
    "collapsed": true
   },
   "outputs": [],
   "source": [
    "import findspark\n",
    "findspark.init()\n",
    "findspark.find()\n",
    "import pyspark\n",
    "findspark.find()\n",
    "\n",
    "import config as cfg\n",
    "import pyspark.sql.functions as func\n",
    "# from pyspark.sql.functions import udf\n",
    "from pyspark.sql.types import StringType"
   ]
  },
  {
   "cell_type": "code",
   "execution_count": 2,
   "metadata": {
    "collapsed": true
   },
   "outputs": [],
   "source": [
    "from pyspark import SparkContext, SparkConf\n",
    "from pyspark.sql import SparkSession\n",
    "# conf = pyspark.SparkConf().setAppName('appName').setMaster('local')\n",
    "sc = SparkContext.getOrCreate();\n",
    "spark = SparkSession(sc)\n",
    "\n",
    "from pyspark.sql import SQLContext\n",
    "sqlContext = SQLContext(sc)"
   ]
  },
  {
   "cell_type": "code",
   "execution_count": 3,
   "metadata": {
    "collapsed": true
   },
   "outputs": [],
   "source": [
    "def getActivityType(activityCount):\n",
    "    if activityCount >= cfg.user_activity_types['active']: \n",
    "        return 'active'\n",
    "    elif activityCount >= cfg.user_activity_types['semi-active']: \n",
    "        return 'semiactive'\n",
    "    elif activityCount >= cfg.user_activity_types['rare']: \n",
    "        return 'rare'\n",
    "    elif activityCount >= cfg.user_activity_types['not active']: \n",
    "        return 'not active'\n",
    "    else: \n",
    "        return 'null'"
   ]
  },
  {
   "cell_type": "code",
   "execution_count": 4,
   "metadata": {
    "collapsed": true
   },
   "outputs": [],
   "source": [
    "activity_type_udf = func.udf(lambda z: getActivityType(int(z)))"
   ]
  },
  {
   "cell_type": "code",
   "execution_count": 6,
   "metadata": {},
   "outputs": [],
   "source": [
    "genderage_df = spark.read.csv('CLEANED_child_profile.csv', header=True)"
   ]
  },
  {
   "cell_type": "code",
   "execution_count": 7,
   "metadata": {
    "collapsed": true
   },
   "outputs": [],
   "source": [
    "def userAggregator(df):\n",
    "    df = df.join(genderage_df, 'Device ID', 'inner')\n",
    "    df = df.withColumn('Activity Type', activity_type_udf('Activity Count'))\n",
    "    df = df.select('Device ID','Time Period', 'Age', 'Gender', \n",
    "                   'Activity Type'\n",
    "                  )\n",
    "    df = df.groupBy(['Age', 'Gender','Activity Type', 'Time Period']).agg(\n",
    "     func.count(func.lit(1)).alias(\"User Counts\")\n",
    "   )\n",
    "    return df"
   ]
  },
  {
   "cell_type": "code",
   "execution_count": 8,
   "metadata": {
    "collapsed": true
   },
   "outputs": [],
   "source": [
    "input_df = spark.read.csv(\"sample_input.csv\",header=True)"
   ]
  },
  {
   "cell_type": "code",
   "execution_count": 9,
   "metadata": {
    "collapsed": true
   },
   "outputs": [],
   "source": [
    "result = userAggregator(input_df)"
   ]
  },
  {
   "cell_type": "code",
   "execution_count": 10,
   "metadata": {
    "collapsed": true
   },
   "outputs": [],
   "source": [
    "result.write.csv('sample_output')"
   ]
  },
  {
   "cell_type": "code",
   "execution_count": null,
   "metadata": {
    "collapsed": true
   },
   "outputs": [],
   "source": []
  }
 ],
 "metadata": {
  "kernelspec": {
   "display_name": "Python 3",
   "language": "python",
   "name": "python3"
  },
  "language_info": {
   "codemirror_mode": {
    "name": "ipython",
    "version": 3
   },
   "file_extension": ".py",
   "mimetype": "text/x-python",
   "name": "python",
   "nbconvert_exporter": "python",
   "pygments_lexer": "ipython3",
   "version": "3.6.1"
  }
 },
 "nbformat": 4,
 "nbformat_minor": 2
}
